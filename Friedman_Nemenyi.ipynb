{
  "nbformat": 4,
  "nbformat_minor": 0,
  "metadata": {
    "colab": {
      "provenance": [],
      "authorship_tag": "ABX9TyPOSJ6sHRYqI7+Ybntenmm5",
      "include_colab_link": true
    },
    "kernelspec": {
      "name": "python3",
      "display_name": "Python 3"
    },
    "language_info": {
      "name": "python"
    }
  },
  "cells": [
    {
      "cell_type": "markdown",
      "metadata": {
        "id": "view-in-github",
        "colab_type": "text"
      },
      "source": [
        "<a href=\"https://colab.research.google.com/github/MonaFaghfouri/Topic_Modeling/blob/main/Friedman_Nemenyi.ipynb\" target=\"_parent\"><img src=\"https://colab.research.google.com/assets/colab-badge.svg\" alt=\"Open In Colab\"/></a>"
      ]
    },
    {
      "cell_type": "code",
      "execution_count": null,
      "metadata": {
        "id": "mtWTFaB5wc1L"
      },
      "outputs": [],
      "source": [
        "# 📦 Installing packages (for Colab)\n",
        "!pip install -q sentence-transformers scikit-posthocs"
      ]
    },
    {
      "cell_type": "code",
      "source": [
        "#  📥 Importing libraries\n",
        "import pandas as pd\n",
        "import numpy as np\n",
        "from sentence_transformers import SentenceTransformer\n",
        "from sklearn.metrics.pairwise import cosine_similarity\n",
        "from scipy.stats import friedmanchisquare\n",
        "import scikit_posthocs as sp\n",
        "\n",
        "# 📦 Loading the multilingual BERT model\n",
        "model = SentenceTransformer('sentence-transformers/paraphrase-multilingual-MiniLM-L12-v2')\n",
        "\n",
        "# 🧠 Defining topics for different models\n",
        "\n",
        "bert_topics = [\n",
        "\n",
        "]\n",
        "\n",
        "lda2vec_topics = [\n",
        "\n",
        "]\n",
        "\n",
        "lda_topics = [\n",
        "\n",
        "]\n",
        "\n",
        "n_gram_topics = [\n",
        "\n",
        "]\n",
        "\n",
        "tf_idf_topics = [\n",
        "\n",
        "]\n",
        "\n",
        "word2vec_topics = [\n",
        "\n",
        "]\n",
        "\n",
        "# 📌 Building the dictionary of models\n",
        "models = {\n",
        "    'TF-IDF': tf_idf_topics,\n",
        "    'BERT': bert_topics,\n",
        "    'LDA': lda_topics,\n",
        "    'LDA2Vec': lda2vec_topics,\n",
        "    'n-Gram': n_gram_topics,\n",
        "    'Word2Vec': word2vec_topics\n",
        "}\n",
        "\n",
        "# ✨ Function to convert each topic to a sentence and extract embeddings\n",
        "def embed_topics(topics):\n",
        "    topic_sentences = [' '.join(topic) for topic in topics]\n",
        "    return model.encode(topic_sentences)\n",
        "\n",
        "# ✅ Create embeddings for all models\n",
        "embeddings = {name: embed_topics(topics) for name, topics in models.items()}\n",
        "\n",
        "# 🧮 Calculate maximum semantic similarity between models\n",
        "raw_scores = []\n",
        "labels = []\n",
        "\n",
        "for name_a, emb_list_a in embeddings.items():\n",
        "    for i, emb_a in enumerate(emb_list_a):\n",
        "        row = {}\n",
        "        labels.append(f\"{name_a}_T{i+1}\")\n",
        "        for name_b, emb_list_b in embeddings.items():\n",
        "            if name_a == name_b:\n",
        "                row[name_b] = 1.0\n",
        "            else:\n",
        "                sims = cosine_similarity([emb_a], emb_list_b)\n",
        "                row[name_b] = float(np.max(sims))\n",
        "        raw_scores.append(row)\n",
        "\n",
        "# 📊 Convert results to a DataFrame\n",
        "scores_df = pd.DataFrame(raw_scores, index=labels)\n",
        "print(\"📊 Semantic similarity scores between topics (across different models):\")\n",
        "print(scores_df)\n",
        "\n",
        "# 🧪 Friedman test (if number of models ≥ 3)\n",
        "if scores_df.shape[1] >= 3:\n",
        "    stat, p = friedmanchisquare(*[scores_df[col] for col in scores_df.columns])\n",
        "    print(f\"\\n🧪 Friedman Test → χ² = {stat:.3f}, P-value = {p:.3f}\")\n",
        "\n",
        "    if p < 0.05:\n",
        "        print(\"✅ There is a significant difference between the models. Running Nemenyi test...\")\n",
        "        nemenyi = sp.posthoc_nemenyi_friedman(scores_df.values)\n",
        "        nemenyi.columns = scores_df.columns\n",
        "        nemenyi.index = scores_df.columns\n",
        "        print(\"\\n📈 Nemenyi Test Results:\")\n",
        "        print(nemenyi)\n",
        "    else:\n",
        "        print(\"❌ No significant difference found between the models.\")\n",
        "else:\n",
        "    print(\"⚠️ At least 3 models are required to run the Friedman test.\")"
      ],
      "metadata": {
        "id": "Kr87d1_hwoJk"
      },
      "execution_count": null,
      "outputs": []
    }
  ]
}